{
 "cells": [
  {
   "cell_type": "code",
   "execution_count": 1,
   "id": "8120cc53",
   "metadata": {},
   "outputs": [],
   "source": [
    "from config import POSTGRES_CONNECTION_STRING\n",
    "import pandas as pd\n",
    "from sqlalchemy import create_engine\n",
    "import plotly.express as px\n",
    "import math\n",
    "import ipyleaflet as lft\n",
    "from ipywidgets import Layout, HTML\n",
    "import seaborn as sns\n",
    "import matplotlib.pyplot as plt\n",
    "import numpy as np\n",
    "import haversine as hs"
   ]
  },
  {
   "cell_type": "code",
   "execution_count": 2,
   "id": "9cd837de",
   "metadata": {},
   "outputs": [],
   "source": [
    "MAPBOX_TOKEN = 'pk.eyJ1IjoicmVzaXZhbGV4IiwiYSI6ImNrdGxvbzgxaTBpcjIydm1qeGVxeXN5YTUifQ.hcWyP3yOX2jg0NHiTjg9Fg'\n",
    "px.set_mapbox_access_token(MAPBOX_TOKEN)"
   ]
  },
  {
   "cell_type": "code",
   "execution_count": 3,
   "id": "25d12d03",
   "metadata": {},
   "outputs": [],
   "source": [
    "def con():\n",
    "    return create_engine(POSTGRES_CONNECTION_STRING)"
   ]
  },
  {
   "cell_type": "code",
   "execution_count": 4,
   "id": "f775efd3",
   "metadata": {},
   "outputs": [
    {
     "data": {
      "text/html": [
       "<div>\n",
       "<style scoped>\n",
       "    .dataframe tbody tr th:only-of-type {\n",
       "        vertical-align: middle;\n",
       "    }\n",
       "\n",
       "    .dataframe tbody tr th {\n",
       "        vertical-align: top;\n",
       "    }\n",
       "\n",
       "    .dataframe thead th {\n",
       "        text-align: right;\n",
       "    }\n",
       "</style>\n",
       "<table border=\"1\" class=\"dataframe\">\n",
       "  <thead>\n",
       "    <tr style=\"text-align: right;\">\n",
       "      <th></th>\n",
       "      <th>id</th>\n",
       "      <th>district</th>\n",
       "      <th>division</th>\n",
       "      <th>square</th>\n",
       "      <th>population</th>\n",
       "      <th>lat</th>\n",
       "      <th>lng</th>\n",
       "    </tr>\n",
       "  </thead>\n",
       "  <tbody>\n",
       "    <tr>\n",
       "      <th>0</th>\n",
       "      <td>1</td>\n",
       "      <td>Богородское</td>\n",
       "      <td>Восточный округ</td>\n",
       "      <td>10.24</td>\n",
       "      <td>110044</td>\n",
       "      <td>55.819760</td>\n",
       "      <td>37.704231</td>\n",
       "    </tr>\n",
       "    <tr>\n",
       "      <th>1</th>\n",
       "      <td>2</td>\n",
       "      <td>Вешняки</td>\n",
       "      <td>Восточный округ</td>\n",
       "      <td>10.72</td>\n",
       "      <td>121972</td>\n",
       "      <td>55.730776</td>\n",
       "      <td>37.815193</td>\n",
       "    </tr>\n",
       "    <tr>\n",
       "      <th>2</th>\n",
       "      <td>3</td>\n",
       "      <td>Восточное</td>\n",
       "      <td>Восточный округ</td>\n",
       "      <td>3.14</td>\n",
       "      <td>13698</td>\n",
       "      <td>55.814980</td>\n",
       "      <td>37.867588</td>\n",
       "    </tr>\n",
       "    <tr>\n",
       "      <th>3</th>\n",
       "      <td>4</td>\n",
       "      <td>Восточное Измайлово</td>\n",
       "      <td>Восточный округ</td>\n",
       "      <td>3.85</td>\n",
       "      <td>77931</td>\n",
       "      <td>55.795818</td>\n",
       "      <td>37.821804</td>\n",
       "    </tr>\n",
       "    <tr>\n",
       "      <th>4</th>\n",
       "      <td>5</td>\n",
       "      <td>Гольяново</td>\n",
       "      <td>Восточный округ</td>\n",
       "      <td>14.99</td>\n",
       "      <td>162886</td>\n",
       "      <td>55.816819</td>\n",
       "      <td>37.798242</td>\n",
       "    </tr>\n",
       "  </tbody>\n",
       "</table>\n",
       "</div>"
      ],
      "text/plain": [
       "   id             district         division  square  population        lat  \\\n",
       "0   1          Богородское  Восточный округ   10.24      110044  55.819760   \n",
       "1   2              Вешняки  Восточный округ   10.72      121972  55.730776   \n",
       "2   3            Восточное  Восточный округ    3.14       13698  55.814980   \n",
       "3   4  Восточное Измайлово  Восточный округ    3.85       77931  55.795818   \n",
       "4   5            Гольяново  Восточный округ   14.99      162886  55.816819   \n",
       "\n",
       "         lng  \n",
       "0  37.704231  \n",
       "1  37.815193  \n",
       "2  37.867588  \n",
       "3  37.821804  \n",
       "4  37.798242  "
      ]
     },
     "execution_count": 4,
     "metadata": {},
     "output_type": "execute_result"
    }
   ],
   "source": [
    "data = pd.read_sql_query('''\n",
    "    select *\n",
    "    from districts\n",
    "''', con())\n",
    "data.head()"
   ]
  },
  {
   "cell_type": "code",
   "execution_count": 5,
   "id": "8fab2103",
   "metadata": {},
   "outputs": [
    {
     "data": {
      "text/html": [
       "<div>\n",
       "<style scoped>\n",
       "    .dataframe tbody tr th:only-of-type {\n",
       "        vertical-align: middle;\n",
       "    }\n",
       "\n",
       "    .dataframe tbody tr th {\n",
       "        vertical-align: top;\n",
       "    }\n",
       "\n",
       "    .dataframe thead th {\n",
       "        text-align: right;\n",
       "    }\n",
       "</style>\n",
       "<table border=\"1\" class=\"dataframe\">\n",
       "  <thead>\n",
       "    <tr style=\"text-align: right;\">\n",
       "      <th></th>\n",
       "      <th>district</th>\n",
       "      <th>division</th>\n",
       "      <th>square</th>\n",
       "      <th>population</th>\n",
       "      <th>lat</th>\n",
       "      <th>lng</th>\n",
       "      <th>radius</th>\n",
       "      <th>density</th>\n",
       "      <th>relative_density</th>\n",
       "    </tr>\n",
       "  </thead>\n",
       "  <tbody>\n",
       "    <tr>\n",
       "      <th>0</th>\n",
       "      <td>Богородское</td>\n",
       "      <td>Восточный округ</td>\n",
       "      <td>10.24</td>\n",
       "      <td>110044</td>\n",
       "      <td>55.819760</td>\n",
       "      <td>37.704231</td>\n",
       "      <td>1.805407</td>\n",
       "      <td>10746.484375</td>\n",
       "      <td>0.353979</td>\n",
       "    </tr>\n",
       "    <tr>\n",
       "      <th>1</th>\n",
       "      <td>Вешняки</td>\n",
       "      <td>Восточный округ</td>\n",
       "      <td>10.72</td>\n",
       "      <td>121972</td>\n",
       "      <td>55.730776</td>\n",
       "      <td>37.815193</td>\n",
       "      <td>1.847236</td>\n",
       "      <td>11377.985075</td>\n",
       "      <td>0.374780</td>\n",
       "    </tr>\n",
       "    <tr>\n",
       "      <th>2</th>\n",
       "      <td>Восточное</td>\n",
       "      <td>Восточный округ</td>\n",
       "      <td>3.14</td>\n",
       "      <td>13698</td>\n",
       "      <td>55.814980</td>\n",
       "      <td>37.867588</td>\n",
       "      <td>0.999746</td>\n",
       "      <td>4362.420382</td>\n",
       "      <td>0.143694</td>\n",
       "    </tr>\n",
       "    <tr>\n",
       "      <th>3</th>\n",
       "      <td>Восточное Измайлово</td>\n",
       "      <td>Восточный округ</td>\n",
       "      <td>3.85</td>\n",
       "      <td>77931</td>\n",
       "      <td>55.795818</td>\n",
       "      <td>37.821804</td>\n",
       "      <td>1.107020</td>\n",
       "      <td>20241.818182</td>\n",
       "      <td>0.666746</td>\n",
       "    </tr>\n",
       "    <tr>\n",
       "      <th>4</th>\n",
       "      <td>Гольяново</td>\n",
       "      <td>Восточный округ</td>\n",
       "      <td>14.99</td>\n",
       "      <td>162886</td>\n",
       "      <td>55.816819</td>\n",
       "      <td>37.798242</td>\n",
       "      <td>2.184368</td>\n",
       "      <td>10866.310874</td>\n",
       "      <td>0.357926</td>\n",
       "    </tr>\n",
       "  </tbody>\n",
       "</table>\n",
       "</div>"
      ],
      "text/plain": [
       "              district         division  square  population        lat  \\\n",
       "0          Богородское  Восточный округ   10.24      110044  55.819760   \n",
       "1              Вешняки  Восточный округ   10.72      121972  55.730776   \n",
       "2            Восточное  Восточный округ    3.14       13698  55.814980   \n",
       "3  Восточное Измайлово  Восточный округ    3.85       77931  55.795818   \n",
       "4            Гольяново  Восточный округ   14.99      162886  55.816819   \n",
       "\n",
       "         lng    radius       density  relative_density  \n",
       "0  37.704231  1.805407  10746.484375          0.353979  \n",
       "1  37.815193  1.847236  11377.985075          0.374780  \n",
       "2  37.867588  0.999746   4362.420382          0.143694  \n",
       "3  37.821804  1.107020  20241.818182          0.666746  \n",
       "4  37.798242  2.184368  10866.310874          0.357926  "
      ]
     },
     "execution_count": 5,
     "metadata": {},
     "output_type": "execute_result"
    }
   ],
   "source": [
    "points = data.copy()[['district', 'division', 'square', 'population', 'lat', 'lng']]\n",
    "points['radius'] = (data['square'] / math.pi) ** 0.5\n",
    "points['density'] = data['population'] / data['square']\n",
    "points['relative_density'] = points['density'] / points['density'].max()\n",
    "points.head()"
   ]
  },
  {
   "cell_type": "code",
   "execution_count": 6,
   "id": "34a17f3b",
   "metadata": {},
   "outputs": [
    {
     "data": {
      "text/plain": [
       "30359.132420091326"
      ]
     },
     "execution_count": 6,
     "metadata": {},
     "output_type": "execute_result"
    }
   ],
   "source": [
    "max_density = points['density'].max()\n",
    "max_density"
   ]
  },
  {
   "cell_type": "code",
   "execution_count": 7,
   "id": "732327ad",
   "metadata": {},
   "outputs": [],
   "source": [
    "MSK = [55.755819, 37.617644]"
   ]
  },
  {
   "cell_type": "code",
   "execution_count": 8,
   "id": "8e2acbf8",
   "metadata": {},
   "outputs": [
    {
     "data": {
      "text/html": [
       "<div>\n",
       "<style scoped>\n",
       "    .dataframe tbody tr th:only-of-type {\n",
       "        vertical-align: middle;\n",
       "    }\n",
       "\n",
       "    .dataframe tbody tr th {\n",
       "        vertical-align: top;\n",
       "    }\n",
       "\n",
       "    .dataframe thead th {\n",
       "        text-align: right;\n",
       "    }\n",
       "</style>\n",
       "<table border=\"1\" class=\"dataframe\">\n",
       "  <thead>\n",
       "    <tr style=\"text-align: right;\">\n",
       "      <th></th>\n",
       "      <th>lat</th>\n",
       "      <th>lng</th>\n",
       "    </tr>\n",
       "    <tr>\n",
       "      <th>division</th>\n",
       "      <th></th>\n",
       "      <th></th>\n",
       "    </tr>\n",
       "  </thead>\n",
       "  <tbody>\n",
       "    <tr>\n",
       "      <th>Восточный округ</th>\n",
       "      <td>55.781806</td>\n",
       "      <td>37.787416</td>\n",
       "    </tr>\n",
       "    <tr>\n",
       "      <th>Западный округ</th>\n",
       "      <td>55.698241</td>\n",
       "      <td>37.437988</td>\n",
       "    </tr>\n",
       "    <tr>\n",
       "      <th>Зеленоградский округ</th>\n",
       "      <td>55.989542</td>\n",
       "      <td>37.196998</td>\n",
       "    </tr>\n",
       "    <tr>\n",
       "      <th>Новомосковский округ</th>\n",
       "      <td>55.563445</td>\n",
       "      <td>37.379101</td>\n",
       "    </tr>\n",
       "    <tr>\n",
       "      <th>Северный округ</th>\n",
       "      <td>55.842851</td>\n",
       "      <td>37.518872</td>\n",
       "    </tr>\n",
       "  </tbody>\n",
       "</table>\n",
       "</div>"
      ],
      "text/plain": [
       "                            lat        lng\n",
       "division                                  \n",
       "Восточный округ       55.781806  37.787416\n",
       "Западный округ        55.698241  37.437988\n",
       "Зеленоградский округ  55.989542  37.196998\n",
       "Новомосковский округ  55.563445  37.379101\n",
       "Северный округ        55.842851  37.518872"
      ]
     },
     "execution_count": 8,
     "metadata": {},
     "output_type": "execute_result"
    }
   ],
   "source": [
    "divisions = points.groupby('division')[['lat', 'lng']].mean()\n",
    "divisions.head()"
   ]
  },
  {
   "cell_type": "code",
   "execution_count": 9,
   "id": "e6c261f3",
   "metadata": {
    "scrolled": false
   },
   "outputs": [
    {
     "data": {
      "application/vnd.jupyter.widget-view+json": {
       "model_id": "63e7e4002c15422fa66a1ae1c7cb6487",
       "version_major": 2,
       "version_minor": 0
      },
      "text/plain": [
       "Map(center=[55.755819, 37.617644], controls=(ZoomControl(options=['position', 'zoom_in_text', 'zoom_in_title',…"
      ]
     },
     "metadata": {},
     "output_type": "display_data"
    }
   ],
   "source": [
    "m = lft.Map(\n",
    "    center=MSK, basemap=lft.basemaps.OpenStreetMap.Mapnik, zoom=9,\n",
    "    layout=Layout(width='100%', height='400px'))\n",
    "for index, p in points.iterrows():\n",
    "    coords = [p['lat'], p['lng']]\n",
    "    c = lft.Circle(location=coords, radius=int(p['radius'] * 1000), weight=1,\n",
    "                color='#04F', opacity=0, fill_opacity=(p['relative_density'] + 0.5) / 1.5,\n",
    "                fill_color='#04F')\n",
    "    m.add_layer(c)\n",
    "# for index, row in divisions.iterrows():\n",
    "#     coords = [row['lat'], row['lng']]\n",
    "#     popup = lft.Popup(\n",
    "#         location=coords,\n",
    "#         child=HTML(index),\n",
    "#         close_button=False,\n",
    "#         auto_close=False,\n",
    "#         close_on_escape_key=False,\n",
    "#         max_height=10\n",
    "#     )\n",
    "#     m.add_layer(popup)\n",
    "#     marker = lft.Marker(location=coords, draggable=False, title=index)\n",
    "#     m.add_layer(marker);\n",
    "\n",
    "\n",
    "m"
   ]
  },
  {
   "cell_type": "code",
   "execution_count": 10,
   "id": "8b352c88",
   "metadata": {},
   "outputs": [],
   "source": [
    "max_radius = points['radius'].max()\n",
    "min_lat = points['lat'].min()\n",
    "max_lat = points['lat'].max()\n",
    "min_lng = points['lng'].min()\n",
    "max_lng = points['lng'].max()\n",
    "dt_lat = hs.inverse_haversine((min_lat, min_lng), max_radius, hs.Direction.NORTH)[0] - min_lat\n",
    "dt_lng = hs.inverse_haversine((min_lat, min_lng), max_radius, hs.Direction.EAST)[1] - min_lng\n",
    "min_lat -= dt_lat\n",
    "max_lat += dt_lat\n",
    "min_lng -= dt_lng\n",
    "max_lng += dt_lng"
   ]
  },
  {
   "cell_type": "code",
   "execution_count": 11,
   "id": "a0b0660d",
   "metadata": {},
   "outputs": [
    {
     "data": {
      "text/plain": [
       "(82.49326640833905, 103.56069349921687)"
      ]
     },
     "execution_count": 11,
     "metadata": {},
     "output_type": "execute_result"
    }
   ],
   "source": [
    "lat_size = max_lat - min_lat\n",
    "lng_size = max_lng - min_lng\n",
    "width = hs.haversine((min_lat + lat_size / 2, min_lng), (min_lat + lat_size / 2, max_lng))\n",
    "height = hs.haversine((min_lat, min_lng + lng_size / 2), (max_lat, min_lng + lng_size / 2))\n",
    "width, height"
   ]
  },
  {
   "cell_type": "code",
   "execution_count": 12,
   "id": "c1f158ad",
   "metadata": {},
   "outputs": [
    {
     "data": {
      "text/plain": [
       "(88.57458430471831, 78.8380940085742)"
      ]
     },
     "execution_count": 12,
     "metadata": {},
     "output_type": "execute_result"
    }
   ],
   "source": [
    "lng_km = width / lat_size\n",
    "lat_km = height / lng_size\n",
    "lng_km, lat_km"
   ]
  },
  {
   "cell_type": "code",
   "execution_count": 13,
   "id": "3572a8af",
   "metadata": {},
   "outputs": [],
   "source": [
    "def opt_haversine(p1, p2):\n",
    "    lat_km = 78.8380940085742\n",
    "    lng_km = 88.57458430471831\n",
    "    hor_dt = (p2[0] - p1[0]) * lng_km\n",
    "    ver_dt = (p2[1] - p1[1]) * lat_km\n",
    "    return (hor_dt ** 2 + ver_dt ** 2) ** 0.5"
   ]
  },
  {
   "cell_type": "code",
   "execution_count": 14,
   "id": "380ae8f8",
   "metadata": {},
   "outputs": [],
   "source": [
    "pts = [\n",
    "    {\n",
    "        'lat': p['lat'],\n",
    "        'lng': p['lng'],\n",
    "        'radius': p['radius'],\n",
    "        'density': p['density']\n",
    "    }\n",
    "    for _, p in points.iterrows()\n",
    "]\n",
    "def density(lat, lng):\n",
    "    hits = []\n",
    "    min_ratio = 1e18\n",
    "    result = 0\n",
    "    for p in pts:\n",
    "        distance = hs.haversine((lat, lng), (p['lat'], p['lng']))\n",
    "        radius = p['radius']\n",
    "        density = p['density']\n",
    "        ratio = distance / radius\n",
    "        if ratio < min_ratio and distance - radius < 1.1:\n",
    "            min_ratio = ratio\n",
    "            result = density\n",
    "    return result"
   ]
  },
  {
   "cell_type": "code",
   "execution_count": 15,
   "id": "88995ae7",
   "metadata": {},
   "outputs": [],
   "source": [
    "def density_matrix(p1, p2, lat_n, lng_n):\n",
    "    matrix = np.zeros((lat_n, lng_n))\n",
    "    min_lat, min_lng = p1\n",
    "    max_lat, max_lng = p2\n",
    "    for i in range(lat_n):\n",
    "        for j in range(lng_n):\n",
    "            lat = min_lat + (max_lat - min_lat) / lat_n * (i + 0.5)\n",
    "            lng = min_lng + (max_lng - min_lng) / lng_n * (j + 0.5)\n",
    "            matrix[i, j] = density(lat, lng)\n",
    "    return matrix"
   ]
  },
  {
   "cell_type": "code",
   "execution_count": 16,
   "id": "cc650169",
   "metadata": {
    "scrolled": false
   },
   "outputs": [
    {
     "name": "stdout",
     "output_type": "stream",
     "text": [
      "CPU times: user 2h 28min 29s, sys: 594 ms, total: 2h 28min 29s\n",
      "Wall time: 2h 28min 30s\n"
     ]
    }
   ],
   "source": [
    "%%time\n",
    "lat_size = max_lat - min_lat\n",
    "lng_size = max_lng - min_lng\n",
    "matrix = density_matrix(\n",
    "    (min_lat, min_lng),\n",
    "    (max_lat, max_lng),\n",
    "    2 ** 13, 2 ** 13\n",
    ")\n"
   ]
  },
  {
   "cell_type": "code",
   "execution_count": 33,
   "id": "8452f3fc",
   "metadata": {},
   "outputs": [],
   "source": [
    "def plot_density_matrix(matrix):\n",
    "    plt.figure(figsize=(16, 16))\n",
    "    sns.heatmap(np.log1p(matrix), vmin=0, vmax=11)\n",
    "    plt.gca().invert_yaxis()\n",
    "    plt.show()"
   ]
  },
  {
   "cell_type": "code",
   "execution_count": 22,
   "id": "41c9f650",
   "metadata": {},
   "outputs": [],
   "source": [
    "np.save('matrix', matrix)"
   ]
  },
  {
   "cell_type": "code",
   "execution_count": 23,
   "id": "24450a96",
   "metadata": {},
   "outputs": [],
   "source": [
    "np.save('map-borders', np.array([(min_lat, min_lng), (max_lat, max_lng)]))"
   ]
  },
  {
   "cell_type": "code",
   "execution_count": 25,
   "id": "29716151",
   "metadata": {},
   "outputs": [
    {
     "data": {
      "text/plain": [
       "array([[55.1471993 , 36.75571401],\n",
       "       [56.0785417 , 38.06930099]])"
      ]
     },
     "execution_count": 25,
     "metadata": {},
     "output_type": "execute_result"
    }
   ],
   "source": [
    "np.load('map-borders.npy')"
   ]
  },
  {
   "cell_type": "code",
   "execution_count": 27,
   "id": "dc0bdca1",
   "metadata": {},
   "outputs": [],
   "source": [
    "np.save(f'matrix-{matrix.shape[0]}', matrix)"
   ]
  },
  {
   "cell_type": "code",
   "execution_count": 32,
   "id": "ddd841e4",
   "metadata": {},
   "outputs": [
    {
     "name": "stdout",
     "output_type": "stream",
     "text": [
      "4096\n",
      "2048\n",
      "1024\n",
      "512\n",
      "256\n",
      "128\n",
      "64\n",
      "32\n",
      "16\n"
     ]
    }
   ],
   "source": [
    "cur_matrix = matrix\n",
    "while cur_matrix.shape[0] > 16:\n",
    "    new_size = cur_matrix.shape[0] // 2\n",
    "    print(new_size)\n",
    "    new_matrix = np.zeros((new_size, new_size))\n",
    "    for i in range(new_matrix.shape[0]):\n",
    "        for j in range(new_matrix.shape[1]):\n",
    "            new_matrix[i, j] = (\n",
    "                cur_matrix[i * 2, j * 2] +\n",
    "                cur_matrix[i * 2, j * 2 + 1] +\n",
    "                cur_matrix[i * 2 + 1, j * 2] +\n",
    "                cur_matrix[i * 2 + 1, j * 2 + 1]\n",
    "            ) / 4\n",
    "    cur_matrix = new_matrix\n",
    "    np.save(f'matrix-{cur_matrix.shape[0]}', cur_matrix)"
   ]
  },
  {
   "cell_type": "code",
   "execution_count": 45,
   "id": "63f61ad4",
   "metadata": {},
   "outputs": [
    {
     "data": {
      "image/png": "[encoded data removed]",
      "text/plain": [
       "<Figure size 1152x1152 with 2 Axes>"
      ]
     },
     "metadata": {
      "needs_background": "light"
     },
     "output_type": "display_data"
    }
   ],
   "source": [
    "plot_density_matrix(np.load('matrix-32.npy'))"
   ]
  }
 ],
 "metadata": {
  "kernelspec": {
   "display_name": "Python 3 (ipykernel)",
   "language": "python",
   "name": "python3"
  },
  "language_info": {
   "codemirror_mode": {
    "name": "ipython",
    "version": 3
   },
   "file_extension": ".py",
   "mimetype": "text/x-python",
   "name": "python",
   "nbconvert_exporter": "python",
   "pygments_lexer": "ipython3",
   "version": "3.8.12"
  }
 },
 "nbformat": 4,
 "nbformat_minor": 5
}
