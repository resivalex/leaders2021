{
 "cells": [
  {
   "cell_type": "code",
   "execution_count": 2,
   "id": "8120cc53",
   "metadata": {},
   "outputs": [],
   "source": [
    "from config import POSTGRES_CONNECTION_STRING\n",
    "import pandas as pd\n",
    "from sqlalchemy import create_engine"
   ]
  },
  {
   "cell_type": "code",
   "execution_count": 4,
   "id": "25d12d03",
   "metadata": {},
   "outputs": [],
   "source": [
    "def con():\n",
    "    return create_engine(POSTGRES_CONNECTION_STRING)"
   ]
  },
  {
   "cell_type": "code",
   "execution_count": 22,
   "id": "6a998a89",
   "metadata": {},
   "outputs": [
    {
     "data": {
      "text/html": [
       "<div>\n",
       "<style scoped>\n",
       "    .dataframe tbody tr th:only-of-type {\n",
       "        vertical-align: middle;\n",
       "    }\n",
       "\n",
       "    .dataframe tbody tr th {\n",
       "        vertical-align: top;\n",
       "    }\n",
       "\n",
       "    .dataframe thead th {\n",
       "        text-align: right;\n",
       "    }\n",
       "</style>\n",
       "<table border=\"1\" class=\"dataframe\">\n",
       "  <thead>\n",
       "    <tr style=\"text-align: right;\">\n",
       "      <th></th>\n",
       "      <th>division</th>\n",
       "      <th>district</th>\n",
       "      <th>square</th>\n",
       "      <th>population</th>\n",
       "      <th>lat</th>\n",
       "      <th>lng</th>\n",
       "    </tr>\n",
       "  </thead>\n",
       "  <tbody>\n",
       "    <tr>\n",
       "      <th>0</th>\n",
       "      <td>Восточный округ</td>\n",
       "      <td>Богородское</td>\n",
       "      <td>10.24</td>\n",
       "      <td>110044</td>\n",
       "      <td>55.819760</td>\n",
       "      <td>37.704231</td>\n",
       "    </tr>\n",
       "    <tr>\n",
       "      <th>1</th>\n",
       "      <td>Восточный округ</td>\n",
       "      <td>Вешняки</td>\n",
       "      <td>10.72</td>\n",
       "      <td>121972</td>\n",
       "      <td>55.730776</td>\n",
       "      <td>37.815193</td>\n",
       "    </tr>\n",
       "    <tr>\n",
       "      <th>2</th>\n",
       "      <td>Восточный округ</td>\n",
       "      <td>Восточное</td>\n",
       "      <td>3.14</td>\n",
       "      <td>13698</td>\n",
       "      <td>55.814980</td>\n",
       "      <td>37.867588</td>\n",
       "    </tr>\n",
       "    <tr>\n",
       "      <th>3</th>\n",
       "      <td>Восточный округ</td>\n",
       "      <td>Восточное Измайлово</td>\n",
       "      <td>3.85</td>\n",
       "      <td>77931</td>\n",
       "      <td>55.795818</td>\n",
       "      <td>37.821804</td>\n",
       "    </tr>\n",
       "    <tr>\n",
       "      <th>4</th>\n",
       "      <td>Восточный округ</td>\n",
       "      <td>Гольяново</td>\n",
       "      <td>14.99</td>\n",
       "      <td>162886</td>\n",
       "      <td>55.816819</td>\n",
       "      <td>37.798242</td>\n",
       "    </tr>\n",
       "  </tbody>\n",
       "</table>\n",
       "</div>"
      ],
      "text/plain": [
       "          division             district  square  population        lat  \\\n",
       "0  Восточный округ          Богородское   10.24      110044  55.819760   \n",
       "1  Восточный округ              Вешняки   10.72      121972  55.730776   \n",
       "2  Восточный округ            Восточное    3.14       13698  55.814980   \n",
       "3  Восточный округ  Восточное Измайлово    3.85       77931  55.795818   \n",
       "4  Восточный округ            Гольяново   14.99      162886  55.816819   \n",
       "\n",
       "         lng  \n",
       "0  37.704231  \n",
       "1  37.815193  \n",
       "2  37.867588  \n",
       "3  37.821804  \n",
       "4  37.798242  "
      ]
     },
     "execution_count": 22,
     "metadata": {},
     "output_type": "execute_result"
    }
   ],
   "source": [
    "data = pd.read_csv('../data/moscow-districs.csv')\n",
    "data.columns = ['division', 'district', 'square', 'population', 'lat', 'lng']\n",
    "for float_col in ['square', 'lat', 'lng']:\n",
    "    data[float_col] = data[float_col].apply(lambda x: float(x.replace(',', '.')))\n",
    "data.head()"
   ]
  },
  {
   "cell_type": "code",
   "execution_count": 20,
   "id": "83e1eef7",
   "metadata": {},
   "outputs": [],
   "source": [
    "def save_to_db(df):\n",
    "    df = df.copy()\n",
    "    df['id'] = list(range(1, df.shape[0] + 1))\n",
    "    df[['id', 'district', 'division', 'square', 'population', 'lat', 'lng']]\\\n",
    "        .to_sql('districts', con(), index=False)\n",
    "# save_to_db(data)"
   ]
  }
 ],
 "metadata": {
  "kernelspec": {
   "display_name": "Python 3 (ipykernel)",
   "language": "python",
   "name": "python3"
  },
  "language_info": {
   "codemirror_mode": {
    "name": "ipython",
    "version": 3
   },
   "file_extension": ".py",
   "mimetype": "text/x-python",
   "name": "python",
   "nbconvert_exporter": "python",
   "pygments_lexer": "ipython3",
   "version": "3.8.12"
  }
 },
 "nbformat": 4,
 "nbformat_minor": 5
}
