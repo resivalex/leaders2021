{
 "cells": [
  {
   "cell_type": "code",
   "execution_count": 1,
   "id": "25302c5c",
   "metadata": {},
   "outputs": [],
   "source": [
    "import numpy as np\n",
    "import pandas as pd\n",
    "import math\n",
    "import seaborn as sns\n",
    "import matplotlib.pyplot as plt\n",
    "import requests\n",
    "import random\n",
    "from config import POSTGRES_CONNECTION_STRING\n",
    "from sqlalchemy import create_engine\n",
    "import json"
   ]
  },
  {
   "cell_type": "code",
   "execution_count": 2,
   "id": "84be3030",
   "metadata": {},
   "outputs": [],
   "source": [
    "def con():\n",
    "    return create_engine(POSTGRES_CONNECTION_STRING)"
   ]
  },
  {
   "cell_type": "code",
   "execution_count": 3,
   "id": "15ac56d2",
   "metadata": {},
   "outputs": [
    {
     "data": {
      "text/plain": [
       "array([[55.1471993 , 36.75571401],\n",
       "       [56.0785417 , 38.06930099]])"
      ]
     },
     "execution_count": 3,
     "metadata": {},
     "output_type": "execute_result"
    }
   ],
   "source": [
    "borders = np.load('map-borders.npy')\n",
    "borders"
   ]
  },
  {
   "cell_type": "code",
   "execution_count": 4,
   "id": "3396b857",
   "metadata": {},
   "outputs": [
    {
     "name": "stdout",
     "output_type": "stream",
     "text": [
      "26238\n"
     ]
    },
    {
     "data": {
      "text/html": [
       "<div>\n",
       "<style scoped>\n",
       "    .dataframe tbody tr th:only-of-type {\n",
       "        vertical-align: middle;\n",
       "    }\n",
       "\n",
       "    .dataframe tbody tr th {\n",
       "        vertical-align: top;\n",
       "    }\n",
       "\n",
       "    .dataframe thead th {\n",
       "        text-align: right;\n",
       "    }\n",
       "</style>\n",
       "<table border=\"1\" class=\"dataframe\">\n",
       "  <thead>\n",
       "    <tr style=\"text-align: right;\">\n",
       "      <th></th>\n",
       "      <th>id</th>\n",
       "      <th>name</th>\n",
       "      <th>sportzone_type_id</th>\n",
       "      <th>object_id</th>\n",
       "      <th>square</th>\n",
       "    </tr>\n",
       "  </thead>\n",
       "  <tbody>\n",
       "    <tr>\n",
       "      <th>0</th>\n",
       "      <td>1042887</td>\n",
       "      <td>зал тренажерный</td>\n",
       "      <td>34</td>\n",
       "      <td>119418</td>\n",
       "      <td>569.5</td>\n",
       "    </tr>\n",
       "    <tr>\n",
       "      <th>1</th>\n",
       "      <td>1042886</td>\n",
       "      <td>зал спортивный</td>\n",
       "      <td>32</td>\n",
       "      <td>119418</td>\n",
       "      <td>216.0</td>\n",
       "    </tr>\n",
       "    <tr>\n",
       "      <th>2</th>\n",
       "      <td>1042888</td>\n",
       "      <td>площадка для игры в баскетбол</td>\n",
       "      <td>64</td>\n",
       "      <td>119418</td>\n",
       "      <td>216.0</td>\n",
       "    </tr>\n",
       "    <tr>\n",
       "      <th>3</th>\n",
       "      <td>1042889</td>\n",
       "      <td>универсальная спортивная площадка</td>\n",
       "      <td>104</td>\n",
       "      <td>119418</td>\n",
       "      <td>180.0</td>\n",
       "    </tr>\n",
       "    <tr>\n",
       "      <th>4</th>\n",
       "      <td>1042890</td>\n",
       "      <td>площадка для игры в волейбол</td>\n",
       "      <td>65</td>\n",
       "      <td>119418</td>\n",
       "      <td>180.0</td>\n",
       "    </tr>\n",
       "  </tbody>\n",
       "</table>\n",
       "</div>"
      ],
      "text/plain": [
       "        id                               name  sportzone_type_id  object_id  \\\n",
       "0  1042887                    зал тренажерный                 34     119418   \n",
       "1  1042886                     зал спортивный                 32     119418   \n",
       "2  1042888      площадка для игры в баскетбол                 64     119418   \n",
       "3  1042889  универсальная спортивная площадка                104     119418   \n",
       "4  1042890       площадка для игры в волейбол                 65     119418   \n",
       "\n",
       "   square  \n",
       "0   569.5  \n",
       "1   216.0  \n",
       "2   216.0  \n",
       "3   180.0  \n",
       "4   180.0  "
      ]
     },
     "execution_count": 4,
     "metadata": {},
     "output_type": "execute_result"
    }
   ],
   "source": [
    "sportzones = pd.read_sql_query('''\n",
    "    select *\n",
    "    from sportzones\n",
    "''', con())\n",
    "print(sportzones.shape[0])\n",
    "sportzones.head()"
   ]
  },
  {
   "cell_type": "code",
   "execution_count": 5,
   "id": "56b164e4",
   "metadata": {},
   "outputs": [
    {
     "name": "stdout",
     "output_type": "stream",
     "text": [
      "CPU times: user 162 ms, sys: 42.5 ms, total: 204 ms\n",
      "Wall time: 726 ms\n"
     ]
    }
   ],
   "source": [
    "%%time\n",
    "parts32 = pd.read_sql_query('''\n",
    "    select *\n",
    "    from sportzone_density_matrixes\n",
    "    where size = 32\n",
    "''', con())"
   ]
  },
  {
   "cell_type": "code",
   "execution_count": 6,
   "id": "822fd818",
   "metadata": {},
   "outputs": [
    {
     "name": "stdout",
     "output_type": "stream",
     "text": [
      "CPU times: user 584 ms, sys: 0 ns, total: 584 ms\n",
      "Wall time: 583 ms\n"
     ]
    }
   ],
   "source": [
    "%%time\n",
    "map32 = np.zeros((32, 32))\n",
    "for _, part in parts32.iterrows():\n",
    "    vert_index = part['vert_index']\n",
    "    horz_index = part['horz_index']\n",
    "    height = part['height']\n",
    "    width = part['width']\n",
    "    matrix = json.loads(part['matrix'])\n",
    "    for i in range(height):\n",
    "        for j in range(width):\n",
    "            map32[i + vert_index, j + horz_index] += matrix[i][j]"
   ]
  },
  {
   "cell_type": "code",
   "execution_count": 7,
   "id": "67461dcb",
   "metadata": {},
   "outputs": [
    {
     "data": {
      "image/png": "[encoded data removed]",
      "text/plain": [
       "<Figure size 1008x1296 with 1 Axes>"
      ]
     },
     "metadata": {
      "needs_background": "light"
     },
     "output_type": "display_data"
    }
   ],
   "source": [
    "plt.figure(figsize=(14, 18))\n",
    "sns.heatmap(np.log1p(map32), cbar=False, vmin=0, vmax=14)\n",
    "plt.gca().invert_yaxis()\n",
    "plt.show()"
   ]
  },
  {
   "cell_type": "code",
   "execution_count": 8,
   "id": "7db5281b",
   "metadata": {},
   "outputs": [],
   "source": [
    "def plot_sportzones(ids):\n",
    "    parts32 = pd.read_sql_query('''\n",
    "        select *\n",
    "        from sportzone_density_matrixes\n",
    "        where size = 32\n",
    "            and sportzone_id in %(ids)s\n",
    "    ''', con(), params={'ids': tuple(ids)})\n",
    "    map32 = np.zeros((32, 32))\n",
    "    for _, part in parts32.iterrows():\n",
    "        vert_index = part['vert_index']\n",
    "        horz_index = part['horz_index']\n",
    "        height = part['height']\n",
    "        width = part['width']\n",
    "        matrix = json.loads(part['matrix'])\n",
    "        for i in range(height):\n",
    "            for j in range(width):\n",
    "                map32[i + vert_index, j + horz_index] += matrix[i][j]\n",
    "    return map32"
   ]
  },
  {
   "cell_type": "code",
   "execution_count": 9,
   "id": "706d145b",
   "metadata": {},
   "outputs": [
    {
     "name": "stdout",
     "output_type": "stream",
     "text": [
      "CPU times: user 752 ms, sys: 50.8 ms, total: 802 ms\n",
      "Wall time: 1.53 s\n"
     ]
    }
   ],
   "source": [
    "%%time\n",
    "map32 = plot_sportzones(sportzones.sample(frac=1)['id'])"
   ]
  },
  {
   "cell_type": "code",
   "execution_count": 10,
   "id": "8922bb77",
   "metadata": {},
   "outputs": [],
   "source": [
    "def select_zoom_level(borders, min_lat, min_lng, max_lat, max_lng):\n",
    "    zoom_lat = (borders[1][0] - borders[0][0]) / (max_lat - min_lat)\n",
    "    zoom_lng = (borders[1][1] - borders[0][1]) / (max_lng - min_lng)\n",
    "    zoom = max(zoom_lat, zoom_lng)\n",
    "    power_of_2 = int(np.log2(zoom) + 5.5)\n",
    "    size = 2 ** power_of_2\n",
    "    size = max(min(2048, size), 32)\n",
    "    return size\n",
    "\n",
    "def get_covered_index(x, left, right, steps):\n",
    "    length = right - left\n",
    "    shift = x - left\n",
    "    step_size = length / steps\n",
    "    relative_position = shift / length\n",
    "    index = math.floor(relative_position * steps)\n",
    "    return index\n",
    "\n",
    "def get_sportzone_heatmap(selection, ids, borders, connection):\n",
    "    (lat_min, lng_min), (lat_max, lng_max) = borders\n",
    "    (sel_lat_min, sel_lng_min), (sel_lat_max, sel_lng_max) = selection\n",
    "    if sel_lat_min > sel_lat_max or sel_lng_min > sel_lng_max:\n",
    "        raise Exception('Selection must be sorted (min_lat, min_lng), (max_lat, max_lng)')\n",
    "    size = select_zoom_level(borders, sel_lat_min, sel_lng_min, sel_lat_max, sel_lng_max)\n",
    "    lat_n = size\n",
    "    lng_n = size\n",
    "    lat_step = (lat_max - lat_min) / lat_n\n",
    "    lng_step = (lng_max - lng_min) / lng_n\n",
    "    \n",
    "    sel_vert_index_min = min(max(get_covered_index(sel_lat_min, lat_min, lat_max, lat_n), 0), lat_n - 1)\n",
    "    sel_horz_index_min = min(max(get_covered_index(sel_lng_min, lng_min, lng_max, lng_n), 0), lng_n - 1)\n",
    "    sel_vert_index_max = min(max(get_covered_index(sel_lat_max, lat_min, lat_max, lat_n), 0), lat_n - 1)\n",
    "    sel_horz_index_max = min(max(get_covered_index(sel_lng_max, lng_min, lng_max, lng_n), 0), lng_n - 1)\n",
    "    \n",
    "    result_borders = (\n",
    "        (\n",
    "            lat_min + lat_step * sel_vert_index_min,\n",
    "            lng_min + lng_step * sel_horz_index_min\n",
    "        ), (\n",
    "            lat_min + lat_step * (sel_vert_index_max + 1),\n",
    "            lng_min + lng_step * (sel_horz_index_max + 1)\n",
    "        )\n",
    "    )\n",
    "    result_shape = (\n",
    "        sel_vert_index_max - sel_vert_index_min + 1,\n",
    "        sel_horz_index_max - sel_horz_index_min + 1\n",
    "    )\n",
    "    \n",
    "    parts = pd.read_sql_query('''\n",
    "        SELECT vert_index, horz_index, height, width, matrix\n",
    "        FROM sportzone_density_matrixes\n",
    "        WHERE vert_index + height - 1 >= %(vert_index_min)s\n",
    "          AND vert_index - height + 1 <= %(vert_index_max)s\n",
    "          AND horz_index + width - 1 >= %(horz_index_min)s\n",
    "          AND horz_index - width + 1 <= %(horz_index_max)s\n",
    "          AND sportzone_id in %(ids)s\n",
    "    ''', params={\n",
    "        'vert_index_min': sel_vert_index_min,\n",
    "        'vert_index_max': sel_vert_index_max,\n",
    "        'horz_index_min': sel_horz_index_min,\n",
    "        'horz_index_max': sel_horz_index_max,\n",
    "        'ids': tuple(ids)\n",
    "    }, con=connection)\n",
    "    result_matrix = np.zeros(result_shape)\n",
    "    for _, part in parts.iterrows():\n",
    "        vert_index = part['vert_index']\n",
    "        horz_index = part['horz_index']\n",
    "        height = part['height']\n",
    "        width = part['width']\n",
    "        copy_vert_index_min = max(sel_vert_index_min, vert_index)\n",
    "        copy_vert_index_max = min(sel_vert_index_max, vert_index + height - 1)\n",
    "        copy_horz_index_min = max(sel_horz_index_min, horz_index)\n",
    "        copy_horz_index_max = min(sel_horz_index_max, horz_index + width - 1)\n",
    "        matrix = json.loads(part['matrix'])\n",
    "        for i in range(copy_vert_index_min, copy_vert_index_max + 1):\n",
    "            for j in range(copy_horz_index_min, copy_horz_index_max + 1):\n",
    "                result_matrix[i - sel_vert_index_min][j - sel_horz_index_min] += \\\n",
    "                    matrix[i - vert_index][j - horz_index]\n",
    "\n",
    "    return result_borders, result_matrix"
   ]
  },
  {
   "cell_type": "code",
   "execution_count": 11,
   "id": "73c99e79",
   "metadata": {},
   "outputs": [
    {
     "name": "stdout",
     "output_type": "stream",
     "text": [
      "CPU times: user 811 ms, sys: 35.7 ms, total: 847 ms\n",
      "Wall time: 1.57 s\n"
     ]
    }
   ],
   "source": [
    "%%time\n",
    "rect, submatrix = get_sportzone_heatmap(((55, 36), (57, 38)), sportzones['id'], borders, con())"
   ]
  },
  {
   "cell_type": "code",
   "execution_count": 12,
   "id": "f20f40cb",
   "metadata": {},
   "outputs": [
    {
     "data": {
      "image/png": "[encoded data removed]",
      "text/plain": [
       "<Figure size 1008x1296 with 1 Axes>"
      ]
     },
     "metadata": {
      "needs_background": "light"
     },
     "output_type": "display_data"
    }
   ],
   "source": [
    "plt.figure(figsize=(14, 18))\n",
    "sns.heatmap(np.log1p(submatrix), cbar=False, vmin=0, vmax=13)\n",
    "plt.gca().invert_yaxis()\n",
    "plt.show()"
   ]
  },
  {
   "cell_type": "code",
   "execution_count": 13,
   "id": "731bb00e",
   "metadata": {},
   "outputs": [],
   "source": [
    "def plot_density_matrix(matrix):\n",
    "    matrix = np.array(matrix)\n",
    "    plt.figure(figsize=(14, 18))\n",
    "    sns.heatmap(np.log1p(matrix), vmin=0, vmax=14, cbar=False)\n",
    "    plt.gca().invert_yaxis()\n",
    "    plt.show()"
   ]
  },
  {
   "cell_type": "code",
   "execution_count": 14,
   "id": "201c96ff",
   "metadata": {},
   "outputs": [],
   "source": [
    "def plot_ax_density_matrix(ax, matrix):\n",
    "    matrix = np.array(matrix)\n",
    "    matrix = np.log1p(matrix)\n",
    "    sns.heatmap(matrix, ax=ax, vmin=0, vmax=14, cbar=False)\n",
    "    ax.invert_yaxis()"
   ]
  },
  {
   "cell_type": "code",
   "execution_count": 15,
   "id": "ad9d79af",
   "metadata": {},
   "outputs": [],
   "source": [
    "def plot_2_density_matrixes(m1, m2):\n",
    "    fig, axs = plt.subplots(1, 2, figsize=(14, 9))\n",
    "    plot_ax_density_matrix(axs[0], m1)\n",
    "    plot_ax_density_matrix(axs[1], m2)\n",
    "    plt.tight_layout()\n",
    "    plt.show()"
   ]
  },
  {
   "cell_type": "code",
   "execution_count": 16,
   "id": "785ca72a",
   "metadata": {},
   "outputs": [],
   "source": [
    "def backend_request(min_lat, min_lng, max_lat, max_lng):\n",
    "    return requests.post(\n",
    "        'http://host.docker.internal:5000/heatmap/sportzone-density',\n",
    "        json={\n",
    "            'geoRect': {\n",
    "                'minLat': min_lat,\n",
    "                'minLng': min_lng,\n",
    "                'maxLat': max_lat,\n",
    "                'maxLng': max_lng\n",
    "            },\n",
    "            'sportzoneIds': sportzones['id'].tolist()\n",
    "        }\n",
    "    ).json()"
   ]
  },
  {
   "cell_type": "code",
   "execution_count": 17,
   "id": "2949069f",
   "metadata": {},
   "outputs": [],
   "source": [
    "def python_request(min_lat, min_lng, max_lat, max_lng):\n",
    "    borders = np.load('map-borders.npy')\n",
    "    matrix_size = select_zoom_level(borders, min_lat, min_lng, max_lat, max_lng)\n",
    "    print(f'Matrix size: {matrix_size}')\n",
    "    matrix = np.load(f'matrix-{matrix_size}.npy')\n",
    "    return get_sportzone_heatmap(((min_lat, min_lng), (max_lat, max_lng)), sportzones['id'], borders, con())"
   ]
  },
  {
   "cell_type": "code",
   "execution_count": 20,
   "id": "b2a6952f",
   "metadata": {},
   "outputs": [],
   "source": [
    "def plot_random_crop():\n",
    "    borders = np.load('map-borders.npy')\n",
    "    (min_lat, min_lng), (max_lat, max_lng) = borders\n",
    "    height = max_lat - min_lat\n",
    "    width = max_lng - min_lng\n",
    "    rand = lambda: random.random()\n",
    "    size = rand() * 0.1\n",
    "    print(f'Size: {size:.2f}')\n",
    "    lat_shift = (1 - size) * rand()\n",
    "    lng_shift = (1 - size) * rand()\n",
    "    lat1 = min_lat + height * lat_shift\n",
    "    lng1 = min_lng + width * lng_shift\n",
    "    lat2 = min_lat + height * (lat_shift + size)\n",
    "    lng2 = min_lng + width * (lng_shift + size)\n",
    "    if lat1 > lat2:\n",
    "        lat1, lat2 = lat2, lat1\n",
    "    if lng1 > lng2:\n",
    "        lng1, lng2 = lng2, lng1\n",
    "    res = backend_request(lat1, lng1, lat2, lng2)\n",
    "    borders, matrix2 = python_request(lat1, lng1, lat2, lng2)\n",
    "    print(f\"API rect: {res['geoRect']}\")\n",
    "    print(f\"Py rect: {borders}\")\n",
    "    plot_2_density_matrixes(res['matrix'], matrix2)"
   ]
  },
  {
   "cell_type": "code",
   "execution_count": 26,
   "id": "7c6d2768",
   "metadata": {
    "scrolled": false
   },
   "outputs": [
    {
     "name": "stdout",
     "output_type": "stream",
     "text": [
      "Size: 0.07\n",
      "Matrix size: 512\n",
      "API rect: {'minLat': 55.785678172886755, 'minLng': 37.520262681621766, 'maxLat': 55.849344157634505, 'maxLng': 37.61005866630657}\n",
      "Py rect: ((55.785678172886755, 37.520262681621766), (55.849344157634505, 37.61005866630657))\n"
     ]
    },
    {
     "data": {
      "image/png": "[encoded data removed]",
      "text/plain": [
       "<Figure size 1008x648 with 2 Axes>"
      ]
     },
     "metadata": {
      "needs_background": "light"
     },
     "output_type": "display_data"
    },
    {
     "name": "stdout",
     "output_type": "stream",
     "text": [
      "CPU times: user 1.28 s, sys: 331 ms, total: 1.61 s\n",
      "Wall time: 5.63 s\n"
     ]
    }
   ],
   "source": [
    "%%time\n",
    "plot_random_crop()"
   ]
  }
 ],
 "metadata": {
  "kernelspec": {
   "display_name": "Python 3 (ipykernel)",
   "language": "python",
   "name": "python3"
  },
  "language_info": {
   "codemirror_mode": {
    "name": "ipython",
    "version": 3
   },
   "file_extension": ".py",
   "mimetype": "text/x-python",
   "name": "python",
   "nbconvert_exporter": "python",
   "pygments_lexer": "ipython3",
   "version": "3.8.12"
  }
 },
 "nbformat": 4,
 "nbformat_minor": 5
}