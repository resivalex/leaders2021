{
 "cells": [
  {
   "cell_type": "code",
   "execution_count": 5,
   "id": "8120cc53",
   "metadata": {},
   "outputs": [],
   "source": [
    "from config import POSTGRES_CONNECTION_STRING\n",
    "import pandas as pd\n",
    "import numpy as np\n",
    "from sqlalchemy import create_engine\n",
    "import json"
   ]
  },
  {
   "cell_type": "code",
   "execution_count": 2,
   "id": "25d12d03",
   "metadata": {},
   "outputs": [],
   "source": [
    "def con():\n",
    "    return create_engine(POSTGRES_CONNECTION_STRING)"
   ]
  },
  {
   "cell_type": "code",
   "execution_count": 12,
   "id": "6a998a89",
   "metadata": {},
   "outputs": [],
   "source": [
    "def save_matrixes():\n",
    "    records = []\n",
    "    for i in range(4, 11 + 1):\n",
    "        size = 2 ** i\n",
    "        matrix = np.load(f'matrix-{size}.npy')\n",
    "        records.append((size, json.dumps(matrix.tolist())))\n",
    "    pd.DataFrame(records, columns=['size', 'matrix']).to_sql('population_density_matrixes', con(), index=False)"
   ]
  },
  {
   "cell_type": "code",
   "execution_count": 20,
   "id": "f6f52881",
   "metadata": {},
   "outputs": [],
   "source": [
    "def save_borders():\n",
    "    (min_lat, min_lng), (max_lat, max_lng) = np.load('map-borders.npy')\n",
    "    pd.DataFrame(\n",
    "        [{'min_lat': min_lat, 'min_lng': min_lng, 'max_lat': max_lat, 'max_lng': max_lng}]\n",
    "    ).to_sql('map_borders', con(), index=False)"
   ]
  }
 ],
 "metadata": {
  "kernelspec": {
   "display_name": "Python 3 (ipykernel)",
   "language": "python",
   "name": "python3"
  },
  "language_info": {
   "codemirror_mode": {
    "name": "ipython",
    "version": 3
   },
   "file_extension": ".py",
   "mimetype": "text/x-python",
   "name": "python",
   "nbconvert_exporter": "python",
   "pygments_lexer": "ipython3",
   "version": "3.8.12"
  }
 },
 "nbformat": 4,
 "nbformat_minor": 5
}
