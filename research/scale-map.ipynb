{
 "cells": [
  {
   "cell_type": "code",
   "execution_count": 1,
   "id": "25302c5c",
   "metadata": {},
   "outputs": [],
   "source": [
    "import numpy as np\n",
    "import pandas as pd\n",
    "import math\n",
    "import seaborn as sns\n",
    "import matplotlib.pyplot as plt\n",
    "import requests\n",
    "import random"
   ]
  },
  {
   "cell_type": "code",
   "execution_count": 2,
   "id": "15ac56d2",
   "metadata": {},
   "outputs": [
    {
     "data": {
      "text/plain": [
       "array([[55.1471993 , 36.75571401],\n",
       "       [56.0785417 , 38.06930099]])"
      ]
     },
     "execution_count": 2,
     "metadata": {},
     "output_type": "execute_result"
    }
   ],
   "source": [
    "borders = np.load('map-borders.npy')\n",
    "borders"
   ]
  },
  {
   "cell_type": "code",
   "execution_count": 3,
   "id": "0ee848fb",
   "metadata": {},
   "outputs": [],
   "source": [
    "matrix = np.load('matrix-32.npy')"
   ]
  },
  {
   "cell_type": "code",
   "execution_count": 4,
   "id": "8922bb77",
   "metadata": {},
   "outputs": [],
   "source": [
    "def get_covered_index(x, left, right, steps):\n",
    "    length = right - left\n",
    "    shift = x - left\n",
    "    step_size = length / steps\n",
    "    relative_position = shift / length\n",
    "    index = math.floor(relative_position * steps)\n",
    "    return index\n",
    "\n",
    "def get_selection_rects(selection, matrix, borders):\n",
    "    (lat_min, lng_min), (lat_max, lng_max) = borders\n",
    "    (sel_lat_min, sel_lng_min), (sel_lat_max, sel_lng_max) = selection\n",
    "    if sel_lat_min > sel_lat_max or sel_lng_min > sel_lng_max:\n",
    "        raise Exception('Selection must be sorted (min_lat, min_lng), (max_lat, max_lng)')\n",
    "    lat_n = matrix.shape[0]\n",
    "    lng_n = matrix.shape[1]\n",
    "    lat_step = (lat_max - lat_min) / lat_n\n",
    "    lng_step = (lng_max - lng_min) / lng_n\n",
    "    \n",
    "    sel_vert_index_min = min(max(get_covered_index(sel_lat_min, lat_min, lat_max, lat_n), 0), lat_n - 1)\n",
    "    sel_hor_index_min = min(max(get_covered_index(sel_lng_min, lng_min, lng_max, lng_n), 0), lng_n - 1)\n",
    "    sel_vert_index_max = min(max(get_covered_index(sel_lat_max, lat_min, lat_max, lat_n), 0), lat_n - 1)\n",
    "    sel_hor_index_max = min(max(get_covered_index(sel_lng_max, lng_min, lng_max, lng_n), 0), lng_n - 1)\n",
    "    \n",
    "    result_borders = (\n",
    "        (\n",
    "            lat_min + lat_step * sel_vert_index_min,\n",
    "            lng_min + lng_step * sel_hor_index_min\n",
    "        ), (\n",
    "            lat_min + lat_step * (sel_vert_index_max + 1),\n",
    "            lng_min + lng_step * (sel_hor_index_max + 1)\n",
    "        )\n",
    "    )\n",
    "    result_matrix = np.zeros((\n",
    "        sel_vert_index_max - sel_vert_index_min + 1,\n",
    "        sel_hor_index_max - sel_hor_index_min + 1\n",
    "    ))\n",
    "    for i in range(result_matrix.shape[0]):\n",
    "        for j in range(result_matrix.shape[1]):\n",
    "            result_matrix[i][j] = matrix[sel_vert_index_min + i][sel_hor_index_min + j]\n",
    "\n",
    "    return result_borders, result_matrix"
   ]
  },
  {
   "cell_type": "code",
   "execution_count": 5,
   "id": "73c99e79",
   "metadata": {},
   "outputs": [],
   "source": [
    "rect, submatrix = get_selection_rects(((55, 36), (57, 38)), matrix, borders)"
   ]
  },
  {
   "cell_type": "code",
   "execution_count": 6,
   "id": "731bb00e",
   "metadata": {},
   "outputs": [],
   "source": [
    "def plot_density_matrix(matrix):\n",
    "    matrix = np.array(matrix)\n",
    "    plt.figure(figsize=(8, 8 / matrix.shape[1] * matrix.shape[0]))\n",
    "    sns.heatmap(np.log1p(matrix), vmin=0, vmax=11, cbar=False)\n",
    "    plt.gca().invert_yaxis()\n",
    "    plt.show()"
   ]
  },
  {
   "cell_type": "code",
   "execution_count": 7,
   "id": "201c96ff",
   "metadata": {},
   "outputs": [],
   "source": [
    "def plot_ax_density_matrix(ax, matrix):\n",
    "    matrix = np.array(matrix)\n",
    "    matrix = np.log1p(matrix)\n",
    "    sns.heatmap(matrix, ax=ax, vmin=0, vmax=11, cbar=False)\n",
    "    ax.invert_yaxis()"
   ]
  },
  {
   "cell_type": "code",
   "execution_count": 8,
   "id": "ad9d79af",
   "metadata": {},
   "outputs": [],
   "source": [
    "def plot_2_density_matrixes(m1, m2):\n",
    "    fig, axs = plt.subplots(1, 2, figsize=(16, 8 / matrix.shape[1] * matrix.shape[0]))\n",
    "    plot_ax_density_matrix(axs[0], m1)\n",
    "    plot_ax_density_matrix(axs[1], m2)\n",
    "    plt.tight_layout()\n",
    "    plt.show()"
   ]
  },
  {
   "cell_type": "code",
   "execution_count": 9,
   "id": "785ca72a",
   "metadata": {},
   "outputs": [],
   "source": [
    "def backend_request(min_lat, min_lng, max_lat, max_lng):\n",
    "    return requests.get(\n",
    "        'http://host.docker.internal:5000'\n",
    "        '/heatmap/population-density?'\n",
    "        f'minLat={min_lat}&'\n",
    "        f'minLng={min_lng}&'\n",
    "        f'maxLat={max_lat}&'\n",
    "        f'maxLng={max_lng}'\n",
    "    ).json()"
   ]
  },
  {
   "cell_type": "code",
   "execution_count": 10,
   "id": "4e1b8ddc",
   "metadata": {},
   "outputs": [],
   "source": [
    "def select_zoom_level(borders, min_lat, min_lng, max_lat, max_lng):\n",
    "    zoom_lat = (borders[1][0] - borders[0][0]) / (max_lat - min_lat)\n",
    "    zoom_lng = (borders[1][1] - borders[0][1]) / (max_lng - min_lng)\n",
    "    zoom = max(zoom_lat, zoom_lng)\n",
    "    power_of_2 = int(np.log2(zoom) + 5.5)\n",
    "    size = 2 ** power_of_2\n",
    "    size = max(min(2048, size), 32)\n",
    "    return size"
   ]
  },
  {
   "cell_type": "code",
   "execution_count": 11,
   "id": "2949069f",
   "metadata": {},
   "outputs": [],
   "source": [
    "def python_request(min_lat, min_lng, max_lat, max_lng):\n",
    "    borders = np.load('map-borders.npy')\n",
    "    matrix_size = select_zoom_level(borders, min_lat, min_lng, max_lat, max_lng)\n",
    "    print(f'Matrix size: {matrix_size}')\n",
    "    matrix = np.load(f'matrix-{matrix_size}.npy')\n",
    "    return get_selection_rects(((min_lat, min_lng), (max_lat, max_lng)), matrix, borders)"
   ]
  },
  {
   "cell_type": "code",
   "execution_count": 27,
   "id": "b2a6952f",
   "metadata": {},
   "outputs": [],
   "source": [
    "def plot_random_crop():\n",
    "    borders = np.load('map-borders.npy')\n",
    "    (min_lat, min_lng), (max_lat, max_lng) = borders\n",
    "    height = max_lat - min_lat\n",
    "    width = max_lng - min_lng\n",
    "    rand = lambda: random.random()\n",
    "    size = rand() * 0.1\n",
    "    print(f'Size: {size:.2f}')\n",
    "    lat_shift = (1 - size) * rand()\n",
    "    lng_shift = (1 - size) * rand()\n",
    "    lat1 = min_lat + height * lat_shift\n",
    "    lng1 = min_lng + width * lng_shift\n",
    "    lat2 = min_lat + height * (lat_shift + size)\n",
    "    lng2 = min_lng + width * (lng_shift + size)\n",
    "    if lat1 > lat2:\n",
    "        lat1, lat2 = lat2, lat1\n",
    "    if lng1 > lng2:\n",
    "        lng1, lng2 = lng2, lng1\n",
    "    res = backend_request(lat1, lng1, lat2, lng2)\n",
    "    borders, matrix2 = python_request(lat1, lng1, lat2, lng2)\n",
    "#     print(f\"API rect: {res['geoRect']}\")\n",
    "#     print(f\"Py rect: {borders}\")\n",
    "    plot_2_density_matrixes(res['matrix'], matrix2)"
   ]
  },
  {
   "cell_type": "code",
   "execution_count": 37,
   "id": "7c6d2768",
   "metadata": {
    "scrolled": false
   },
   "outputs": [
    {
     "name": "stdout",
     "output_type": "stream",
     "text": [
      "Size: 0.06\n",
      "Matrix size: 512\n"
     ]
    },
    {
     "data": {
      "image/png": "[encoded data removed]",
      "text/plain": [
       "<Figure size 1152x576 with 2 Axes>"
      ]
     },
     "metadata": {
      "needs_background": "light"
     },
     "output_type": "display_data"
    }
   ],
   "source": [
    "plot_random_crop()"
   ]
  }
 ],
 "metadata": {
  "kernelspec": {
   "display_name": "Python 3 (ipykernel)",
   "language": "python",
   "name": "python3"
  },
  "language_info": {
   "codemirror_mode": {
    "name": "ipython",
    "version": 3
   },
   "file_extension": ".py",
   "mimetype": "text/x-python",
   "name": "python",
   "nbconvert_exporter": "python",
   "pygments_lexer": "ipython3",
   "version": "3.8.12"
  }
 },
 "nbformat": 4,
 "nbformat_minor": 5
}
